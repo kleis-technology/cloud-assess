{
 "cells": [
  {
   "cell_type": "code",
   "execution_count": 4,
   "id": "c35fd21b-7cc2-408f-84fc-f7f99de9c7d2",
   "metadata": {},
   "outputs": [
    {
     "name": "stdout",
     "output_type": "stream",
     "text": [
      "CSV file 'workers.csv' created with 2000 workers.\n",
      "CSV file 'workers_impacts.csv' created with 2000 hardware entries.\n"
     ]
    }
   ],
   "source": [
    "import csv\n",
    "import random\n",
    "\n",
    "def generate_workers_csv(n, filename=\"workers.csv\"):\n",
    "    header = [\n",
    "        \"id\",\"pool_id\",\"dc_id\",\"power\",\"lifespan\",\"hdd_quantity\",\"hdd_unit_size\",\n",
    "        \"ssd_quantity\",\"ssd_unit_size\",\"ram_quantity\",\"ram_unit_size\",\"gpu_quantity\",\n",
    "        \"gpu_model_name\",\"fan_quantity\",\"psu_total_weight\",\"load_rate\",\"comment\",\"quantity\"\n",
    "    ]\n",
    "    \n",
    "    with open(filename, mode=\"w\", newline=\"\") as file:\n",
    "        writer = csv.writer(file)\n",
    "        writer.writerow(header)\n",
    "        \n",
    "        for i in range(n):\n",
    "            row = [\n",
    "                f\"worker-{i}\",         # id\n",
    "                \"worker\",              # pool_id\n",
    "                \"fr01\",                # dc_id\n",
    "                random.uniform(50, 70), # power (random float)\n",
    "                1,                      # lifespan\n",
    "                \"\", \"\",                  # hdd_quantity, hdd_unit_size\n",
    "                \"\", \"\",                  # ssd_quantity, ssd_unit_size\n",
    "                random.uniform(30, 64), # ram_quantity (GB)\n",
    "                \"GB\",                   # ram_unit_size\n",
    "                \"\", \"\",                  # gpu_quantity, gpu_model_name\n",
    "                \"\", \"\",                  # fan_quantity, psu_total_weight\n",
    "                \"\", \"\",                  # load_rate, comment\n",
    "                1                        # quantity\n",
    "            ]\n",
    "            writer.writerow(row)\n",
    "    \n",
    "    print(f\"CSV file '{filename}' created with {n} workers.\")\n",
    "\n",
    "def generate_workers_impact_csv(n, filename=\"workers_impacts.csv\"):\n",
    "    header = [\n",
    "        \"hw_id\",\"lc_step\",\"ADPe\",\"ADPf\",\"AP\",\"CTUe\",\"CTUh_c\",\"CTUh_nc\",\n",
    "        \"Epf\",\"Epm\",\"Ept\",\"GWP\",\"GWPf\",\"GWPlu\",\"IR\",\"LU\",\"ODP\",\"PM\",\n",
    "        \"POCP\",\"WU\",\"TPE\",\"GWPb\"\n",
    "    ]\n",
    "    \n",
    "    with open(filename, mode=\"w\", newline=\"\") as file:\n",
    "        writer = csv.writer(file)\n",
    "        writer.writerow(header)\n",
    "        \n",
    "        for i in range(n):\n",
    "            row = [\n",
    "                f\"worker-{i}\",              # hw_id\n",
    "                \"manufacturing\",        # lc_step\n",
    "                *[random.uniform(0, 100) for _ in range(len(header) - 2)]\n",
    "            ]\n",
    "            writer.writerow(row)\n",
    "    \n",
    "    print(f\"CSV file '{filename}' created with {n} hardware entries.\")\n",
    "\n",
    "# Example usage\n",
    "generate_workers_csv(2000)\n",
    "generate_workers_impact_csv(2000)"
   ]
  }
 ],
 "metadata": {
  "kernelspec": {
   "display_name": "Python 3 (ipykernel)",
   "language": "python",
   "name": "python3"
  },
  "language_info": {
   "codemirror_mode": {
    "name": "ipython",
    "version": 3
   },
   "file_extension": ".py",
   "mimetype": "text/x-python",
   "name": "python",
   "nbconvert_exporter": "python",
   "pygments_lexer": "ipython3",
   "version": "3.13.3"
  }
 },
 "nbformat": 4,
 "nbformat_minor": 5
}
